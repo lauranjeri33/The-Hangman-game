{
 "cells": [
  {
   "cell_type": "code",
   "execution_count": null,
   "metadata": {},
   "outputs": [],
   "source": [
    "# the computer will select any random element from the list we give.\n",
    "import random\n",
    "\n",
    "choices = (\"rock\", \"paper\", \"scrissors\")\n",
    "# The choices will be in tuples which are elements that are in order and cannot be changed\n",
    "\n",
    "# To introduce the while loop, while playing \n",
    "# the computer will continue generating the choices we created\n",
    "# but if the user or player \"q\" or presses Enter, the game will stop.\n",
    "Count = 0\n",
    "playing = True\n",
    "computer_score, player_score =0,0 \n",
    "while Count <= 5:\n",
    "    # we will now assign the random.choice to a variable\n",
    "    computer_pick = random.choice(choices)\n",
    "    player_choice = int(input(\"Enter an input \\n 1. Rock \\n 2. Paper \\n 3. Scissor\"))\n",
    "\n",
    "    selection = {\n",
    "    1: \"rock\",\n",
    "    2: \"paper\",\n",
    "    3: \"scissors\"}\n",
    "\n",
    "    try:\n",
    "        player_input = selection[player_choice]\n",
    "    except KeyError:\n",
    "        print('try again')\n",
    "\n",
    "    print(f\"Player_input: {player_input}\")\n",
    "    print(f\"computer_pick: {computer_pick}\")\n",
    "\n",
    "    if player_input not in selection.values():\n",
    "        print('invalid choice')\n",
    "    \n",
    "    elif player_input == \"rock\" and computer_pick == \"scissors\":\n",
    "        player_score +=1 \n",
    "        print(\"player won\")\n",
    "        print('-------------------------------------------------')\n",
    "    elif player_input == \"paper\" and computer_pick == \"rock\":\n",
    "        player_score +=1 \n",
    "        print(\"player won\")\n",
    "\n",
    "        print('-------------------------------------------------')\n",
    "    elif player_input == \"scissors\" and computer_pick ==\"paper\":\n",
    "        player_score +=1 \n",
    "        print(\"player won\")\n",
    "        \n",
    "        print('-------------------------------------------------')\n",
    "    elif player_input == computer_pick :\n",
    "        print(\"its a tie!\")\n",
    "        Count-=1 \n",
    "        print('-------------------------------------------------')\n",
    "\n",
    "\n",
    "    else:\n",
    "        print(\"Player lost!\")\n",
    "        computer_score +=1\n",
    "        print('-------------------------------------------------')\n",
    "    Count += 1\n",
    "\n",
    "print (f\"computer score is {computer_score}, Player score is {player_score}\")"
   ]
  },
  {
   "cell_type": "code",
   "execution_count": null,
   "metadata": {},
   "outputs": [],
   "source": [
    "selection.values()"
   ]
  },
  {
   "cell_type": "code",
   "execution_count": null,
   "metadata": {},
   "outputs": [],
   "source": []
  }
 ],
 "metadata": {
  "kernelspec": {
   "display_name": "Python 3",
   "language": "python",
   "name": "python3"
  },
  "language_info": {
   "codemirror_mode": {
    "name": "ipython",
    "version": 3
   },
   "file_extension": ".py",
   "mimetype": "text/x-python",
   "name": "python",
   "nbconvert_exporter": "python",
   "pygments_lexer": "ipython3",
   "version": "3.13.0"
  }
 },
 "nbformat": 4,
 "nbformat_minor": 2
}
